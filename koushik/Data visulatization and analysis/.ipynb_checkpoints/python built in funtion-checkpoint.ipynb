{
 "cells": [
  {
   "cell_type": "markdown",
   "id": "600717a3",
   "metadata": {},
   "source": [
    "## Pandas series with python built in funtions\n",
    "1.membership operator\n",
    "2.len()\n",
    "3.type()\n",
    "4.list()\n",
    "5.dict()\n"
   ]
  },
  {
   "cell_type": "code",
   "execution_count": 1,
   "id": "ebeb6743",
   "metadata": {},
   "outputs": [],
   "source": [
    "import numpy as np\n",
    "import pandas as pd"
   ]
  },
  {
   "cell_type": "code",
   "execution_count": 18,
   "id": "496a231d",
   "metadata": {},
   "outputs": [],
   "source": [
    "data=pd.Series(data=['a','b','c','d'],index=[1,2,3,4]) #membership operator"
   ]
  },
  {
   "cell_type": "code",
   "execution_count": 11,
   "id": "82c34233",
   "metadata": {},
   "outputs": [
    {
     "data": {
      "text/plain": [
       "True"
      ]
     },
     "execution_count": 11,
     "metadata": {},
     "output_type": "execute_result"
    }
   ],
   "source": [
    "'a' in data.values"
   ]
  },
  {
   "cell_type": "code",
   "execution_count": 9,
   "id": "dceaf9fc",
   "metadata": {},
   "outputs": [
    {
     "data": {
      "text/plain": [
       "True"
      ]
     },
     "execution_count": 9,
     "metadata": {},
     "output_type": "execute_result"
    }
   ],
   "source": [
    "1 in data.index"
   ]
  },
  {
   "cell_type": "code",
   "execution_count": 13,
   "id": "dc80a675",
   "metadata": {},
   "outputs": [
    {
     "data": {
      "text/plain": [
       "4"
      ]
     },
     "execution_count": 13,
     "metadata": {},
     "output_type": "execute_result"
    }
   ],
   "source": [
    "len(data)   ##len()"
   ]
  },
  {
   "cell_type": "code",
   "execution_count": 14,
   "id": "ebb310a4",
   "metadata": {},
   "outputs": [
    {
     "data": {
      "text/plain": [
       "pandas.core.series.Series"
      ]
     },
     "execution_count": 14,
     "metadata": {},
     "output_type": "execute_result"
    }
   ],
   "source": [
    "type(data)"
   ]
  },
  {
   "cell_type": "code",
   "execution_count": 19,
   "id": "62aec4c6",
   "metadata": {},
   "outputs": [
    {
     "data": {
      "text/plain": [
       "['a', 'b', 'c', 'd']"
      ]
     },
     "execution_count": 19,
     "metadata": {},
     "output_type": "execute_result"
    }
   ],
   "source": [
    "list(data)   #list()"
   ]
  },
  {
   "cell_type": "code",
   "execution_count": 21,
   "id": "8310afc2",
   "metadata": {},
   "outputs": [
    {
     "data": {
      "text/plain": [
       "{1: 'a', 2: 'b', 3: 'c', 4: 'd'}"
      ]
     },
     "execution_count": 21,
     "metadata": {},
     "output_type": "execute_result"
    }
   ],
   "source": [
    "dict(data)     #dict()"
   ]
  },
  {
   "cell_type": "code",
   "execution_count": null,
   "id": "57e22fad",
   "metadata": {},
   "outputs": [],
   "source": []
  }
 ],
 "metadata": {
  "kernelspec": {
   "display_name": "Python 3 (ipykernel)",
   "language": "python",
   "name": "python3"
  },
  "language_info": {
   "codemirror_mode": {
    "name": "ipython",
    "version": 3
   },
   "file_extension": ".py",
   "mimetype": "text/x-python",
   "name": "python",
   "nbconvert_exporter": "python",
   "pygments_lexer": "ipython3",
   "version": "3.11.7"
  }
 },
 "nbformat": 4,
 "nbformat_minor": 5
}
