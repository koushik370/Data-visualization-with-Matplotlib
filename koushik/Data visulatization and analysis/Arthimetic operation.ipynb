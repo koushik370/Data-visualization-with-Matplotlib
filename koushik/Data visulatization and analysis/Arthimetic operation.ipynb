{
 "cells": [
  {
   "cell_type": "code",
   "execution_count": 3,
   "id": "aa0d578c",
   "metadata": {},
   "outputs": [],
   "source": [
    "##overview of arthimetic operations \n",
    "#additon\n",
    "#subtraction\n",
    "#multiplication\n",
    "#divison \n",
    "#floor div\n",
    "#modulo div"
   ]
  },
  {
   "cell_type": "code",
   "execution_count": 4,
   "id": "aa25493e",
   "metadata": {},
   "outputs": [],
   "source": [
    "import pandas as pd\n",
    "import numpy as np"
   ]
  },
  {
   "cell_type": "code",
   "execution_count": 5,
   "id": "8da50eba",
   "metadata": {},
   "outputs": [],
   "source": [
    "result=pd.Series(data=[5,np.nan,15],index=['a','b','c'])"
   ]
  },
  {
   "cell_type": "code",
   "execution_count": 6,
   "id": "6f446792",
   "metadata": {},
   "outputs": [
    {
     "data": {
      "text/plain": [
       "a     5.0\n",
       "b     NaN\n",
       "c    15.0\n",
       "dtype: float64"
      ]
     },
     "execution_count": 6,
     "metadata": {},
     "output_type": "execute_result"
    }
   ],
   "source": [
    "result"
   ]
  },
  {
   "cell_type": "code",
   "execution_count": 9,
   "id": "e36c92b4",
   "metadata": {},
   "outputs": [
    {
     "data": {
      "text/plain": [
       "a     8.0\n",
       "b     NaN\n",
       "c    18.0\n",
       "dtype: float64"
      ]
     },
     "execution_count": 9,
     "metadata": {},
     "output_type": "execute_result"
    }
   ],
   "source": [
    "data=result+3   #additon using addmethod()\n",
    "data"
   ]
  },
  {
   "cell_type": "code",
   "execution_count": 11,
   "id": "a90dab15",
   "metadata": {},
   "outputs": [
    {
     "data": {
      "text/plain": [
       "a     0.0\n",
       "b     NaN\n",
       "c    10.0\n",
       "dtype: float64"
      ]
     },
     "execution_count": 11,
     "metadata": {},
     "output_type": "execute_result"
    }
   ],
   "source": [
    "result.sub(5) #subtraction"
   ]
  },
  {
   "cell_type": "code",
   "execution_count": 12,
   "id": "034b25a6",
   "metadata": {},
   "outputs": [
    {
     "data": {
      "text/plain": [
       "a    10.0\n",
       "b     NaN\n",
       "c    30.0\n",
       "dtype: float64"
      ]
     },
     "execution_count": 12,
     "metadata": {},
     "output_type": "execute_result"
    }
   ],
   "source": [
    "result.mul(2) #multiplication"
   ]
  },
  {
   "cell_type": "code",
   "execution_count": 15,
   "id": "7407ee73",
   "metadata": {},
   "outputs": [
    {
     "data": {
      "text/plain": [
       "a    1.0\n",
       "b    NaN\n",
       "c    3.0\n",
       "dtype: float64"
      ]
     },
     "execution_count": 15,
     "metadata": {},
     "output_type": "execute_result"
    }
   ],
   "source": [
    "result.div(5)  #division"
   ]
  },
  {
   "cell_type": "code",
   "execution_count": 16,
   "id": "92546e11",
   "metadata": {},
   "outputs": [],
   "source": [
    "data=pd.Series([3,4,5,6,7,8,9])\n"
   ]
  },
  {
   "cell_type": "code",
   "execution_count": 17,
   "id": "e7aaa610",
   "metadata": {},
   "outputs": [
    {
     "data": {
      "text/plain": [
       "0    1\n",
       "1    2\n",
       "2    2\n",
       "3    3\n",
       "4    3\n",
       "5    4\n",
       "6    4\n",
       "dtype: int64"
      ]
     },
     "execution_count": 17,
     "metadata": {},
     "output_type": "execute_result"
    }
   ],
   "source": [
    "data.floordiv(2)   #floor diviation"
   ]
  },
  {
   "cell_type": "code",
   "execution_count": 18,
   "id": "2944260d",
   "metadata": {},
   "outputs": [
    {
     "data": {
      "text/plain": [
       "0    1.5\n",
       "1    2.0\n",
       "2    2.5\n",
       "3    3.0\n",
       "4    3.5\n",
       "5    4.0\n",
       "6    4.5\n",
       "dtype: float64"
      ]
     },
     "execution_count": 18,
     "metadata": {},
     "output_type": "execute_result"
    }
   ],
   "source": [
    "data.div(2)"
   ]
  },
  {
   "cell_type": "code",
   "execution_count": 20,
   "id": "1cb646d3",
   "metadata": {},
   "outputs": [
    {
     "data": {
      "text/plain": [
       "0    1\n",
       "1    0\n",
       "2    1\n",
       "3    0\n",
       "4    1\n",
       "5    0\n",
       "6    1\n",
       "dtype: int64"
      ]
     },
     "execution_count": 20,
     "metadata": {},
     "output_type": "execute_result"
    }
   ],
   "source": [
    "data.mod(2)   #modulo funtion"
   ]
  },
  {
   "cell_type": "code",
   "execution_count": null,
   "id": "c40c778e",
   "metadata": {},
   "outputs": [],
   "source": []
  }
 ],
 "metadata": {
  "kernelspec": {
   "display_name": "Python 3 (ipykernel)",
   "language": "python",
   "name": "python3"
  },
  "language_info": {
   "codemirror_mode": {
    "name": "ipython",
    "version": 3
   },
   "file_extension": ".py",
   "mimetype": "text/x-python",
   "name": "python",
   "nbconvert_exporter": "python",
   "pygments_lexer": "ipython3",
   "version": "3.11.7"
  }
 },
 "nbformat": 4,
 "nbformat_minor": 5
}
