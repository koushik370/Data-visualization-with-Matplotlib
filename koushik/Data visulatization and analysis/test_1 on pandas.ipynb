{
 "cells": [
  {
   "cell_type": "raw",
   "id": "7f9a4ef1",
   "metadata": {},
   "source": [
    "##solve the questions by using any csv file(import from chrom) \n",
    "#1.create dataframe add the columns to the data frame with any two methods# **\n",
    "#2.import a csv file and perform extration operation column,index,data,dtypes**\n",
    "#3.perform extration of column by selecting from dataframe by three methods and write the methods names**\n",
    "#4.perform rename funtion in csv file and write the use of rename funtion**\n",
    "#5.perform changing the index funtion in csv file**\n",
    "#6.assign the values to the dataframe in csv file**\n",
    "#7.combine the two column and make it into column in csv file**\n",
    "#8.find out the missing values in the csv file of any column**\n",
    "#9.what is use of drop method and apply to the csv file and write the difference between delete and drop method**\n",
    "#10.find the location of column and insert the new column in particular location\n"
   ]
  },
  {
   "cell_type": "code",
   "execution_count": 1,
   "id": "04e27a44",
   "metadata": {},
   "outputs": [],
   "source": [
    "import pandas as pd"
   ]
  },
  {
   "cell_type": "code",
   "execution_count": 8,
   "id": "fa698d4f",
   "metadata": {},
   "outputs": [],
   "source": [
    "data=pd.read_csv(r\"C:\\Users\\Admin\\Desktop\\excelfiles\\Book1.csv\")"
   ]
  },
  {
   "cell_type": "code",
   "execution_count": 148,
   "id": "5068e90d",
   "metadata": {},
   "outputs": [],
   "source": [
    "#data"
   ]
  },
  {
   "cell_type": "code",
   "execution_count": 39,
   "id": "7eb8d1a0",
   "metadata": {},
   "outputs": [],
   "source": [
    "#3.perform extration of column by selecting from dataframe by three methods and write the methods names\n",
    "#index method\n",
    "#attribute method\n",
    "#.loc and .iloc method\n",
    "#data[\"Genre\"]   ##index method"
   ]
  },
  {
   "cell_type": "code",
   "execution_count": 28,
   "id": "c6b6f8d8",
   "metadata": {},
   "outputs": [],
   "source": [
    "#data.Genre   ##by attribute method"
   ]
  },
  {
   "cell_type": "code",
   "execution_count": 27,
   "id": "45c493a0",
   "metadata": {},
   "outputs": [],
   "source": [
    "#data.loc[:,\"Genre\"]  ##by .loc method is used to extract the column of the dataframe "
   ]
  },
  {
   "cell_type": "code",
   "execution_count": 26,
   "id": "167d095e",
   "metadata": {},
   "outputs": [],
   "source": [
    "#data.iloc[:,2:5]  ##it result in range of columns that you given inthe .iloc method"
   ]
  },
  {
   "cell_type": "code",
   "execution_count": 24,
   "id": "faadc2a6",
   "metadata": {},
   "outputs": [],
   "source": [
    "##2 performing the diffrent methods in the dataframe\n",
    "#column,index,data,dtypes\n",
    "#data.columns\n"
   ]
  },
  {
   "cell_type": "code",
   "execution_count": 25,
   "id": "f4c339c2",
   "metadata": {},
   "outputs": [],
   "source": [
    "#data.index"
   ]
  },
  {
   "cell_type": "code",
   "execution_count": 23,
   "id": "b67d3679",
   "metadata": {},
   "outputs": [],
   "source": [
    "#data.Genre.to_numpy()"
   ]
  },
  {
   "cell_type": "code",
   "execution_count": 40,
   "id": "9d089b95",
   "metadata": {},
   "outputs": [],
   "source": [
    "#data.dtypes"
   ]
  },
  {
   "cell_type": "code",
   "execution_count": 41,
   "id": "42d18d43",
   "metadata": {},
   "outputs": [],
   "source": [
    "#1.create dataframe add the columns to the data frame with any two methods"
   ]
  },
  {
   "cell_type": "code",
   "execution_count": 71,
   "id": "f488e154",
   "metadata": {},
   "outputs": [],
   "source": [
    "temp_1=pd.Series([1,2,3,66,8])\n",
    "temp_2=pd.Series([6,5,4,4,])\n",
    "result=pd.DataFrame({\"a\":temp_1,\"b\":temp_2})\n",
    "#result"
   ]
  },
  {
   "cell_type": "code",
   "execution_count": 133,
   "id": "296624e6",
   "metadata": {},
   "outputs": [],
   "source": [
    "#4.perform rename funtion in csv file and write the use of rename funtion\n",
    "#rename funtion is used to set the names of the columns and index according to our wish\n",
    "col={\"Genre\":\"movie_name\",\n",
    "      \"Lead Studio\":\"Ld\",\n",
    "      \"Profitability\":\"profits\",\n",
    "      \"Rotten Tomatoes %\":\"rating\",\n",
    "     \"Unnamed: 8\":\"integer\" }\n"
   ]
  },
  {
   "cell_type": "code",
   "execution_count": 85,
   "id": "f604007d",
   "metadata": {},
   "outputs": [],
   "source": [
    "#status_result.Gonor"
   ]
  },
  {
   "cell_type": "code",
   "execution_count": 147,
   "id": "78f74a55",
   "metadata": {},
   "outputs": [],
   "source": [
    "status_result=data.rename(columns=col)\n",
    "#status_result"
   ]
  },
  {
   "cell_type": "code",
   "execution_count": 135,
   "id": "ea0298bd",
   "metadata": {},
   "outputs": [],
   "source": [
    "tem=status_result.set_index(\"movie_name\")"
   ]
  },
  {
   "cell_type": "code",
   "execution_count": 185,
   "id": "f3235a74",
   "metadata": {},
   "outputs": [],
   "source": [
    "#5.perform changing the index funtion in csv file\n",
    "#we will perform index changing index and allocating the index\n",
    "#status_result.set_index(\"Gonor\")\n",
    "index_change={\"Zack and Miri Make a Porno\":\"salar\",\n",
    "               \"Youth in Revolt\":\"Dear comred\",\n",
    "             \"You Will Meet a Tall Dark Stranger\":\"geetha govindham\",\n",
    "            \"When in Rome\":\"arjun reddy\"}\n",
    "columns={\"movie_name\":\"movie\"}\n",
    "status_result=tem.rename(index=index_change)\n",
    "#status_result"
   ]
  },
  {
   "cell_type": "code",
   "execution_count": 186,
   "id": "b822a8fd",
   "metadata": {},
   "outputs": [],
   "source": [
    "#status_result.info()"
   ]
  },
  {
   "cell_type": "code",
   "execution_count": 142,
   "id": "00adc46f",
   "metadata": {},
   "outputs": [],
   "source": [
    "total=status_result[\"integer\"]+status_result[\"profits\"]"
   ]
  },
  {
   "cell_type": "code",
   "execution_count": 144,
   "id": "5fc599d7",
   "metadata": {},
   "outputs": [],
   "source": [
    "#6.assign the values to the dataframe in csv file\n",
    "#by assigning method we can create a separete column by applying mathematical operations and we can aso set the name of columns\n",
    "#status_result.assign(total=total)"
   ]
  },
  {
   "cell_type": "code",
   "execution_count": 157,
   "id": "e20fdd5c",
   "metadata": {},
   "outputs": [],
   "source": [
    "#8.find out the missing values in the csv file of any column\n",
    "#this method is used to know the columns contains NaN values and by default it result true for the nan values\n",
    "#by default it gives it gives false\n",
    "##.isna().sum() is used to return the number of nan values present in the columns \n",
    "#status_result.isna().sum()"
   ]
  },
  {
   "cell_type": "code",
   "execution_count": 187,
   "id": "87539c07",
   "metadata": {},
   "outputs": [],
   "source": [
    "#status_result.columns"
   ]
  },
  {
   "cell_type": "code",
   "execution_count": 162,
   "id": "8a65e0ad",
   "metadata": {},
   "outputs": [],
   "source": [
    "#9.what is use of drop method and apply to the csv file and write the difference between delete and drop method\n",
    "#the main difference between drop and del method is used drop method cannot distrub the main dataframe \n",
    "#del method directly applicable to dataframe so once the item is deleted we can return it back\n",
    "status_result=status_result.drop(columns=\"Ld\")"
   ]
  },
  {
   "cell_type": "code",
   "execution_count": 188,
   "id": "ef8d0df3",
   "metadata": {},
   "outputs": [],
   "source": [
    "#status_result.info()"
   ]
  },
  {
   "cell_type": "code",
   "execution_count": 189,
   "id": "fd87a7f2",
   "metadata": {},
   "outputs": [],
   "source": [
    "#10.find the location of column and insert the new column in particular location\n",
    "count=status_result.columns.get_loc(\"Year\")+1\n",
    "#count"
   ]
  },
  {
   "cell_type": "code",
   "execution_count": 181,
   "id": "1252a00c",
   "metadata": {},
   "outputs": [],
   "source": [
    "status_result.insert(loc=count,column='kou',value=status_result[\"profits\"]*status_result[\"integer\"])"
   ]
  },
  {
   "cell_type": "code",
   "execution_count": 183,
   "id": "b61100f9",
   "metadata": {},
   "outputs": [],
   "source": [
    "status_result=status_result.drop(columns=\"kou\")"
   ]
  },
  {
   "cell_type": "code",
   "execution_count": 190,
   "id": "a0a9c24d",
   "metadata": {},
   "outputs": [],
   "source": [
    "#status_result"
   ]
  },
  {
   "cell_type": "code",
   "execution_count": 191,
   "id": "a4440a8d",
   "metadata": {},
   "outputs": [
    {
     "name": "stdout",
     "output_type": "stream",
     "text": [
      "The end of exam\n"
     ]
    }
   ],
   "source": [
    "print(\"The end of exam\")"
   ]
  },
  {
   "cell_type": "code",
   "execution_count": null,
   "id": "3785f705",
   "metadata": {},
   "outputs": [],
   "source": []
  }
 ],
 "metadata": {
  "kernelspec": {
   "display_name": "Python 3 (ipykernel)",
   "language": "python",
   "name": "python3"
  },
  "language_info": {
   "codemirror_mode": {
    "name": "ipython",
    "version": 3
   },
   "file_extension": ".py",
   "mimetype": "text/x-python",
   "name": "python",
   "nbconvert_exporter": "python",
   "pygments_lexer": "ipython3",
   "version": "3.11.7"
  }
 },
 "nbformat": 4,
 "nbformat_minor": 5
}
