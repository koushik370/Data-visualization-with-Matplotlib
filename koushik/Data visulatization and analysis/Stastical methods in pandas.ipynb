{
 "cells": [
  {
   "cell_type": "markdown",
   "id": "bb1d94a8",
   "metadata": {},
   "source": [
    "# stastical methods in pandas\n",
    "*sum\n",
    "*cumsum\n",
    "*sample\n",
    "*std\n",
    "*mean\n",
    "*median\n",
    "*unique\n",
    "*nunique\n",
    "*describe\n",
    "*max\n",
    "*min\n",
    "*count"
   ]
  },
  {
   "cell_type": "code",
   "execution_count": 2,
   "id": "aab2aeb8",
   "metadata": {},
   "outputs": [],
   "source": [
    "import numpy as np\n",
    "import pandas as pd"
   ]
  },
  {
   "cell_type": "code",
   "execution_count": 25,
   "id": "77511cf4",
   "metadata": {},
   "outputs": [],
   "source": [
    "result=pd.Series([1,2,3,np.nan,5,56,78])\n",
    "data=pd.Series([\"koushik\",\"ramu\",\"laxman\",\"karthik\",\"ramu\",\"koushik\"])"
   ]
  },
  {
   "cell_type": "code",
   "execution_count": 4,
   "id": "eea22797",
   "metadata": {},
   "outputs": [],
   "source": [
    "##count()"
   ]
  },
  {
   "cell_type": "code",
   "execution_count": 5,
   "id": "c1bbc218",
   "metadata": {},
   "outputs": [
    {
     "data": {
      "text/plain": [
       "4"
      ]
     },
     "execution_count": 5,
     "metadata": {},
     "output_type": "execute_result"
    }
   ],
   "source": [
    "result.count()"
   ]
  },
  {
   "cell_type": "code",
   "execution_count": 6,
   "id": "112118c3",
   "metadata": {},
   "outputs": [],
   "source": [
    "##sum()"
   ]
  },
  {
   "cell_type": "code",
   "execution_count": 10,
   "id": "c3a5d15a",
   "metadata": {},
   "outputs": [
    {
     "data": {
      "text/plain": [
       "11.0"
      ]
     },
     "execution_count": 10,
     "metadata": {},
     "output_type": "execute_result"
    }
   ],
   "source": [
    "result.sum(skipna=True)"
   ]
  },
  {
   "cell_type": "code",
   "execution_count": 11,
   "id": "b0b6147f",
   "metadata": {},
   "outputs": [],
   "source": [
    "##cumsum()\n"
   ]
  },
  {
   "cell_type": "code",
   "execution_count": 12,
   "id": "a9c5a1a5",
   "metadata": {},
   "outputs": [
    {
     "data": {
      "text/plain": [
       "0     1.0\n",
       "1     3.0\n",
       "2     6.0\n",
       "3     NaN\n",
       "4    11.0\n",
       "dtype: float64"
      ]
     },
     "execution_count": 12,
     "metadata": {},
     "output_type": "execute_result"
    }
   ],
   "source": [
    "result.cumsum()"
   ]
  },
  {
   "cell_type": "code",
   "execution_count": 13,
   "id": "1851e336",
   "metadata": {},
   "outputs": [
    {
     "data": {
      "text/plain": [
       "0    1.0\n",
       "1    3.0\n",
       "2    6.0\n",
       "3    NaN\n",
       "4    NaN\n",
       "dtype: float64"
      ]
     },
     "execution_count": 13,
     "metadata": {},
     "output_type": "execute_result"
    }
   ],
   "source": [
    "result.cumsum(skipna=False)"
   ]
  },
  {
   "cell_type": "code",
   "execution_count": 14,
   "id": "b526f67f",
   "metadata": {},
   "outputs": [],
   "source": [
    "##sample()"
   ]
  },
  {
   "cell_type": "code",
   "execution_count": 19,
   "id": "cedd6615",
   "metadata": {},
   "outputs": [
    {
     "data": {
      "text/plain": [
       "3    NaN\n",
       "4    5.0\n",
       "0    1.0\n",
       "dtype: float64"
      ]
     },
     "execution_count": 19,
     "metadata": {},
     "output_type": "execute_result"
    }
   ],
   "source": [
    "result.sample(3)"
   ]
  },
  {
   "cell_type": "code",
   "execution_count": 21,
   "id": "50d55bc8",
   "metadata": {},
   "outputs": [],
   "source": [
    "##unique()"
   ]
  },
  {
   "cell_type": "code",
   "execution_count": 22,
   "id": "ccedf619",
   "metadata": {},
   "outputs": [
    {
     "data": {
      "text/plain": [
       "array(['koushik', 'ramu', 'laxman', 'karthik'], dtype=object)"
      ]
     },
     "execution_count": 22,
     "metadata": {},
     "output_type": "execute_result"
    }
   ],
   "source": [
    "data.unique()"
   ]
  },
  {
   "cell_type": "code",
   "execution_count": 23,
   "id": "f77fa0c5",
   "metadata": {},
   "outputs": [],
   "source": [
    "##nunique()\n"
   ]
  },
  {
   "cell_type": "code",
   "execution_count": 24,
   "id": "f890c4c3",
   "metadata": {},
   "outputs": [
    {
     "data": {
      "text/plain": [
       "4"
      ]
     },
     "execution_count": 24,
     "metadata": {},
     "output_type": "execute_result"
    }
   ],
   "source": [
    "data.nunique()"
   ]
  },
  {
   "cell_type": "code",
   "execution_count": 26,
   "id": "0386f9c6",
   "metadata": {},
   "outputs": [],
   "source": [
    "##mean()"
   ]
  },
  {
   "cell_type": "code",
   "execution_count": 27,
   "id": "364d90d2",
   "metadata": {},
   "outputs": [
    {
     "data": {
      "text/plain": [
       "24.166666666666668"
      ]
     },
     "execution_count": 27,
     "metadata": {},
     "output_type": "execute_result"
    }
   ],
   "source": [
    "result.mean()"
   ]
  },
  {
   "cell_type": "code",
   "execution_count": 28,
   "id": "4aecf68f",
   "metadata": {},
   "outputs": [],
   "source": [
    "##median()"
   ]
  },
  {
   "cell_type": "code",
   "execution_count": 29,
   "id": "e1c9a324",
   "metadata": {},
   "outputs": [
    {
     "data": {
      "text/plain": [
       "4.0"
      ]
     },
     "execution_count": 29,
     "metadata": {},
     "output_type": "execute_result"
    }
   ],
   "source": [
    "result.median()"
   ]
  },
  {
   "cell_type": "code",
   "execution_count": 30,
   "id": "66d68f4a",
   "metadata": {},
   "outputs": [],
   "source": [
    "##stadard deviation(std)"
   ]
  },
  {
   "cell_type": "code",
   "execution_count": 31,
   "id": "cc5dd154",
   "metadata": {},
   "outputs": [
    {
     "data": {
      "text/plain": [
       "33.92589964417549"
      ]
     },
     "execution_count": 31,
     "metadata": {},
     "output_type": "execute_result"
    }
   ],
   "source": [
    "result.std()"
   ]
  },
  {
   "cell_type": "code",
   "execution_count": 32,
   "id": "b3f8476c",
   "metadata": {},
   "outputs": [
    {
     "data": {
      "text/plain": [
       "count     6.000000\n",
       "mean     24.166667\n",
       "std      33.925900\n",
       "min       1.000000\n",
       "25%       2.250000\n",
       "50%       4.000000\n",
       "75%      43.250000\n",
       "max      78.000000\n",
       "dtype: float64"
      ]
     },
     "execution_count": 32,
     "metadata": {},
     "output_type": "execute_result"
    }
   ],
   "source": [
    "result.describe()"
   ]
  },
  {
   "cell_type": "code",
   "execution_count": 34,
   "id": "5ddb02c8",
   "metadata": {},
   "outputs": [],
   "source": [
    "##min()"
   ]
  },
  {
   "cell_type": "code",
   "execution_count": 33,
   "id": "19690968",
   "metadata": {},
   "outputs": [
    {
     "data": {
      "text/plain": [
       "1.0"
      ]
     },
     "execution_count": 33,
     "metadata": {},
     "output_type": "execute_result"
    }
   ],
   "source": [
    "result.min()"
   ]
  },
  {
   "cell_type": "code",
   "execution_count": 35,
   "id": "29979b20",
   "metadata": {},
   "outputs": [
    {
     "data": {
      "text/plain": [
       "'karthik'"
      ]
     },
     "execution_count": 35,
     "metadata": {},
     "output_type": "execute_result"
    }
   ],
   "source": [
    "data.min()"
   ]
  },
  {
   "cell_type": "code",
   "execution_count": 36,
   "id": "c33c8010",
   "metadata": {},
   "outputs": [],
   "source": [
    "##max()"
   ]
  },
  {
   "cell_type": "code",
   "execution_count": 37,
   "id": "966dcc55",
   "metadata": {},
   "outputs": [
    {
     "data": {
      "text/plain": [
       "'ramu'"
      ]
     },
     "execution_count": 37,
     "metadata": {},
     "output_type": "execute_result"
    }
   ],
   "source": [
    "data.max()"
   ]
  },
  {
   "cell_type": "code",
   "execution_count": 38,
   "id": "9ebc32ee",
   "metadata": {},
   "outputs": [
    {
     "data": {
      "text/plain": [
       "78.0"
      ]
     },
     "execution_count": 38,
     "metadata": {},
     "output_type": "execute_result"
    }
   ],
   "source": [
    "result.max()"
   ]
  },
  {
   "cell_type": "code",
   "execution_count": null,
   "id": "b84d1cae",
   "metadata": {},
   "outputs": [],
   "source": []
  }
 ],
 "metadata": {
  "kernelspec": {
   "display_name": "Python 3 (ipykernel)",
   "language": "python",
   "name": "python3"
  },
  "language_info": {
   "codemirror_mode": {
    "name": "ipython",
    "version": 3
   },
   "file_extension": ".py",
   "mimetype": "text/x-python",
   "name": "python",
   "nbconvert_exporter": "python",
   "pygments_lexer": "ipython3",
   "version": "3.11.7"
  }
 },
 "nbformat": 4,
 "nbformat_minor": 5
}
